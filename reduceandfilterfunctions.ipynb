{
 "cells": [
  {
   "cell_type": "code",
   "execution_count": 5,
   "metadata": {},
   "outputs": [
    {
     "name": "stdout",
     "output_type": "stream",
     "text": [
      " Multiplying the list values is [1, 2, 3, 4, 5]  : 120\n",
      "Adding the list values is [1, 2, 3, 4, 5]  : 15\n",
      "Subtracting the list values is [1, 2, 3, 4, 5]  : -13\n",
      "Checking for boolean values  is [1, 0, 0, 0, 0]  : False\n",
      "Person with age 32 is an adult :True\n",
      "Person with age 13 is an adult :False\n",
      "Person with age 51 is an adult :True\n",
      "Person with age 4 is an adult :False\n",
      "Person with age 15 is an adult :False\n",
      "Number 12 is even :True\n",
      "Number 34 is even :True\n",
      "Number 13 is even :False\n",
      "Number 42 is even :True\n",
      "Number 9 is even :False\n",
      "Number 151 is even :False\n",
      "Number 1343 is even :False\n"
     ]
    }
   ],
   "source": [
    "def myreduce(function,value):\n",
    "    init,*rest=value\n",
    "    result=init\n",
    "    for i in rest :\n",
    "        result=function(result,i)\n",
    "      #  print(f'i and result is {i}  {result}')\n",
    "    return result\n",
    "\n",
    "def myfilter(function,value):\n",
    "    result=[]\n",
    "    for i in value :\n",
    "        result.append(function(i))\n",
    "    return result\n",
    "\n",
    "\n",
    "def mult_2_num(a,b):\n",
    "    return a*b\n",
    "def add_2_num(a,b):\n",
    "    return a+b\n",
    "def sub_2_num(a,b):\n",
    "    return a-b\n",
    "\n",
    "def checkanyboolean(a,b):\n",
    "    if a and b :\n",
    "        return True\n",
    "    else :\n",
    "        return False \n",
    "\n",
    "def checkage(value):\n",
    "    if value >= 18: \n",
    "        return True\n",
    "    else: \n",
    "        return False\n",
    "    \n",
    "def checkeven(value):\n",
    "    if value %2 == 0: \n",
    "        return True\n",
    "    else: \n",
    "        return False\n",
    "\n",
    "l1=[1,2,3,4,5]\n",
    "l2 = [1,0,0,0,0]\n",
    "age=[32,13,51,4,15]\n",
    "\n",
    "result = myreduce(mult_2_num,l1)\n",
    "print (f' Multiplying the list values is {l1}  : {result}')\n",
    "result = myreduce(add_2_num,l1)\n",
    "print (f'Adding the list values is {l1}  : {result}')\n",
    "result =myreduce(sub_2_num,l1)\n",
    "print (f'Subtracting the list values is {l1}  : {result}')\n",
    "result=myreduce(checkanyboolean,l2)\n",
    "print (f'Checking for any of the boolean values  is {l2}  : {result}')\n",
    "\n",
    "\n",
    "numbers=[12,34,13,42,9,151,1343]\n",
    "result=myfilter(checkage,age)\n",
    "for i,j  in zip(age,result):\n",
    "    print(f'Person with age {i} is an adult :{j}')\n",
    "result=myfilter(checkeven,numbers)\n",
    "for i,j  in zip(numbers,result):\n",
    "    print(f'Number {i} is even :{j}')\n",
    "          "
   ]
  },
  {
   "cell_type": "markdown",
   "metadata": {},
   "source": [
    "# List Comprehensions"
   ]
  },
  {
   "cell_type": "code",
   "execution_count": 19,
   "metadata": {},
   "outputs": [
    {
     "data": {
      "text/plain": [
       "['x', 'xx', 'xxx', 'xxxx', 'y', 'yy', 'yyy', 'yyyy', 'z', 'zz', 'zzz', 'zzzz']"
      ]
     },
     "execution_count": 19,
     "metadata": {},
     "output_type": "execute_result"
    }
   ],
   "source": [
    "var=['x','y','z']\n",
    "\n",
    "[var[i]*j for i in range(3) for j in range(1,5)]\n",
    "\n"
   ]
  },
  {
   "cell_type": "code",
   "execution_count": 26,
   "metadata": {},
   "outputs": [
    {
     "data": {
      "text/plain": [
       "['x', 'y', 'z', 'xx', 'yy', 'zz', 'xxx', 'yyy', 'zzz', 'xxxx', 'yyyy', 'zzzz']"
      ]
     },
     "execution_count": 26,
     "metadata": {},
     "output_type": "execute_result"
    }
   ],
   "source": [
    "var=['x','y','z']\n",
    "[var[j]*i for i in range(1,5) for j in range(3)]"
   ]
  },
  {
   "cell_type": "code",
   "execution_count": 62,
   "metadata": {},
   "outputs": [
    {
     "data": {
      "text/plain": [
       "[[2], [3], [4], [3], [4], [5], [4], [5], [6]]"
      ]
     },
     "execution_count": 62,
     "metadata": {},
     "output_type": "execute_result"
    }
   ],
   "source": [
    "[ [ i+j]  for i in range(2,5) for j in range(3)]"
   ]
  },
  {
   "cell_type": "code",
   "execution_count": 39,
   "metadata": {},
   "outputs": [
    {
     "data": {
      "text/plain": [
       "[[2, 3, 4, 5], [3, 4, 5, 6], [4, 5, 6, 7], [5, 6, 7, 8]]"
      ]
     },
     "execution_count": 39,
     "metadata": {},
     "output_type": "execute_result"
    }
   ],
   "source": [
    "[[i+j  for i in range(2,6)] for j in range(4)]"
   ]
  },
  {
   "cell_type": "code",
   "execution_count": null,
   "metadata": {},
   "outputs": [],
   "source": [
    "[(1, 1), (2, 1), (3, 1), (1, 2), (2, 2), (3, 2), (1, 3), (2, 3), (3, 3)]"
   ]
  },
  {
   "cell_type": "code",
   "execution_count": 66,
   "metadata": {},
   "outputs": [
    {
     "data": {
      "text/plain": [
       "[(1, 1), (2, 1), (3, 1), (1, 2), (2, 2), (3, 2), (1, 3), (2, 3), (3, 3)]"
      ]
     },
     "execution_count": 66,
     "metadata": {},
     "output_type": "execute_result"
    }
   ],
   "source": [
    "[(j,i) for i in range(1,4) for j in range(1,4)]"
   ]
  },
  {
   "cell_type": "code",
   "execution_count": null,
   "metadata": {},
   "outputs": [],
   "source": []
  },
  {
   "cell_type": "code",
   "execution_count": null,
   "metadata": {},
   "outputs": [],
   "source": []
  },
  {
   "cell_type": "code",
   "execution_count": null,
   "metadata": {},
   "outputs": [],
   "source": []
  },
  {
   "cell_type": "code",
   "execution_count": null,
   "metadata": {},
   "outputs": [],
   "source": []
  },
  {
   "cell_type": "code",
   "execution_count": null,
   "metadata": {},
   "outputs": [],
   "source": []
  },
  {
   "cell_type": "code",
   "execution_count": null,
   "metadata": {},
   "outputs": [],
   "source": []
  },
  {
   "cell_type": "code",
   "execution_count": null,
   "metadata": {},
   "outputs": [],
   "source": []
  },
  {
   "cell_type": "code",
   "execution_count": null,
   "metadata": {},
   "outputs": [],
   "source": []
  },
  {
   "cell_type": "code",
   "execution_count": null,
   "metadata": {},
   "outputs": [],
   "source": []
  },
  {
   "cell_type": "code",
   "execution_count": null,
   "metadata": {},
   "outputs": [],
   "source": []
  },
  {
   "cell_type": "code",
   "execution_count": null,
   "metadata": {},
   "outputs": [],
   "source": []
  },
  {
   "cell_type": "code",
   "execution_count": null,
   "metadata": {},
   "outputs": [],
   "source": []
  },
  {
   "cell_type": "code",
   "execution_count": null,
   "metadata": {},
   "outputs": [],
   "source": []
  },
  {
   "cell_type": "code",
   "execution_count": null,
   "metadata": {},
   "outputs": [],
   "source": []
  },
  {
   "cell_type": "code",
   "execution_count": null,
   "metadata": {},
   "outputs": [],
   "source": []
  },
  {
   "cell_type": "code",
   "execution_count": null,
   "metadata": {},
   "outputs": [],
   "source": []
  }
 ],
 "metadata": {
  "kernelspec": {
   "display_name": "Python 3",
   "language": "python",
   "name": "python3"
  },
  "language_info": {
   "codemirror_mode": {
    "name": "ipython",
    "version": 3
   },
   "file_extension": ".py",
   "mimetype": "text/x-python",
   "name": "python",
   "nbconvert_exporter": "python",
   "pygments_lexer": "ipython3",
   "version": "3.7.5"
  }
 },
 "nbformat": 4,
 "nbformat_minor": 4
}
