{
 "cells": [
  {
   "cell_type": "markdown",
   "metadata": {},
   "source": [
    "# Geometric Progression on a matrix- Alexandre-Theophile Vandermonde method"
   ]
  },
  {
   "cell_type": "code",
   "execution_count": 44,
   "metadata": {},
   "outputs": [
    {
     "name": "stdout",
     "output_type": "stream",
     "text": [
      "The Alexandre-Theophile Vandermonde Geometric Progression\n",
      "The matrix with geometric progession is\n",
      "[[ 1  1  1]\n",
      " [ 4  2  1]\n",
      " [ 9  3  1]\n",
      " [16  4  1]]\n"
     ]
    }
   ],
   "source": [
    "import numpy as np\n",
    "def power(input,N):\n",
    "    shpeofvector=input.shape\n",
    "    for i in range(N) :\n",
    "        arr1=np.array([np.power(input,N-i-1)])\n",
    "        if i == 0 :\n",
    "            concatarr=arr1.T\n",
    "        else :\n",
    "            concatarr=np.hstack((concatarr,arr1.T))\n",
    "    return concatarr\n",
    "print(\"The Alexandre-Theophile Vandermonde Geometric Progression\")\n",
    "inp = np.array([1,2,3,4])\n",
    "res= power(inp,3)\n",
    "print(\"The matrix with geometric progession is\")\n",
    "print(res)"
   ]
  },
  {
   "cell_type": "markdown",
   "metadata": {},
   "source": [
    "#  MOVING AVERAGE OF AN ARRAY"
   ]
  },
  {
   "cell_type": "code",
   "execution_count": 76,
   "metadata": {},
   "outputs": [
    {
     "name": "stdout",
     "output_type": "stream",
     "text": [
      "Input Array \n",
      " [  3   5   7   2   8  10  11  65  72  81  99 100 150]\n",
      "--------------------------------------------------------------------------- \n",
      " The moving average for the input array  with the window of 3 is \n",
      " ---------------------------------------------------------------------------\n",
      "[  5.     4.67   5.67   6.67   9.67  28.67  49.33  72.67  84.    93.33\n",
      " 116.33]\n"
     ]
    }
   ],
   "source": [
    "def movingavg(input,k):\n",
    "    mvngavg=[]\n",
    "    for j in range(input.shape[0]-k+1):\n",
    "        total=0    \n",
    "        for i in range(j,j+k):\n",
    "            total+=inp[i]\n",
    "        mvngavg.append(total/k)\n",
    "    mvngavgarr=np.array(mvngavg)\n",
    "    return mvngavgarr\n",
    "\n",
    "inp=np.array([3,5,7,2,8,10,11,65,72,81,99,100,150])\n",
    "print(\"Input Array \\n\",inp)\n",
    "print( '-'*75, \"\\n The moving average for the input array  with the window of 3 is \\n\",'-'*75)\n",
    "np.set_printoptions(precision=2)\n",
    "print(movingavg(inp,3))"
   ]
  },
  {
   "cell_type": "code",
   "execution_count": null,
   "metadata": {},
   "outputs": [],
   "source": []
  },
  {
   "cell_type": "code",
   "execution_count": null,
   "metadata": {},
   "outputs": [],
   "source": []
  }
 ],
 "metadata": {
  "kernelspec": {
   "display_name": "Python 3",
   "language": "python",
   "name": "python3"
  },
  "language_info": {
   "codemirror_mode": {
    "name": "ipython",
    "version": 3
   },
   "file_extension": ".py",
   "mimetype": "text/x-python",
   "name": "python",
   "nbconvert_exporter": "python",
   "pygments_lexer": "ipython3",
   "version": "3.7.6"
  }
 },
 "nbformat": 4,
 "nbformat_minor": 4
}
