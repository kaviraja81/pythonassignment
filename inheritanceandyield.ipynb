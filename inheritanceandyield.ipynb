{
 "cells": [
  {
   "cell_type": "code",
   "execution_count": 72,
   "metadata": {},
   "outputs": [
    {
     "name": "stdout",
     "output_type": "stream",
     "text": [
      "Enter the length of the first side in a triangle\n",
      "12\n",
      "Enter the length of the second side in a triangle\n",
      "16\n",
      "Enter the length of the third side in a triangle\n",
      "20\n",
      "The area of a triangle with lengths 12,16,20 is 96.0\n"
     ]
    }
   ],
   "source": [
    "class Length:\n",
    "    def __init__(self,a,b,c):\n",
    "        self.a=a\n",
    "        self.b=b\n",
    "        self.c=c\n",
    "        \n",
    "        \n",
    "class area(Length):\n",
    "       \n",
    "    def __init__(self,*args):\n",
    "        super().__init__(*args)\n",
    "        \n",
    "    def areaoftriangle(self):\n",
    "        s=(self.a+self.b+self.c)/2\n",
    "        areaval=(s*(s-self.a)*(s-self.b)*(s-self.c))**0.5\n",
    "        return areaval\n",
    "\n",
    "print(\"Enter the length of the first side in a triangle\")\n",
    "length1=input()\n",
    "print(\"Enter the length of the second side in a triangle\")\n",
    "length2=input()\n",
    "print(\"Enter the length of the third side in a triangle\")\n",
    "length3=input()\n",
    "a=area(int(length1),int(length2),int(length3))\n",
    "trianglearea=a.areaoftriangle()\n",
    "print(f'The area of a triangle with lengths {length1},{length2},{length3} is {trianglearea}')\n"
   ]
  },
  {
   "cell_type": "code",
   "execution_count": 1,
   "metadata": {},
   "outputs": [
    {
     "name": "stdout",
     "output_type": "stream",
     "text": [
      "Original word list\n",
      "['abc', 'def', 'h', 'gh']\n",
      "List of words with length greater than 2\n",
      "['abc', 'def']\n",
      "Length of words in the list\n"
     ]
    },
    {
     "data": {
      "text/plain": [
       "[3, 3, 1, 2]"
      ]
     },
     "execution_count": 1,
     "metadata": {},
     "output_type": "execute_result"
    }
   ],
   "source": [
    "\n",
    "def filter_long_words(wordlist,n):\n",
    "    for i in wordlist :\n",
    "        if len(i)> n:\n",
    "            yield i \n",
    "\n",
    "            \n",
    "def calc_length_of_words(wordlist):\n",
    "    for i in wordlist :\n",
    "        yield len(i) \n",
    "\n",
    "wordlist=['abc','def','h','gh']\n",
    "print(\"Original word list\")\n",
    "print(wordlist)\n",
    "print(\"List of words with length greater than 2\")\n",
    "print(list(filter_long_words(wordlist,2)))\n",
    "print(\"Length of words in the list\")\n",
    "list(calc_length_of_words(wordlist))\n"
   ]
  },
  {
   "cell_type": "code",
   "execution_count": 68,
   "metadata": {},
   "outputs": [
    {
     "name": "stdout",
     "output_type": "stream",
     "text": [
      "False\n",
      "True\n"
     ]
    }
   ],
   "source": [
    "def checkvowel(letter):\n",
    "    if letter in ['a','e','i','o','u']:\n",
    "        return True\n",
    "    else :\n",
    "        return False\n",
    "print(checkvowel('b'))\n",
    "print(checkvowel('e'))"
   ]
  }
 ],
 "metadata": {
  "kernelspec": {
   "display_name": "Python 3",
   "language": "python",
   "name": "python3"
  },
  "language_info": {
   "codemirror_mode": {
    "name": "ipython",
    "version": 3
   },
   "file_extension": ".py",
   "mimetype": "text/x-python",
   "name": "python",
   "nbconvert_exporter": "python",
   "pygments_lexer": "ipython3",
   "version": "3.7.6"
  }
 },
 "nbformat": 4,
 "nbformat_minor": 4
}
